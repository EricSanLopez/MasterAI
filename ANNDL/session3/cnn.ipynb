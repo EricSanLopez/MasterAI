{
  "cells": [
    {
      "cell_type": "markdown",
      "metadata": {
        "id": "XEDrFr3_VWQm"
      },
      "source": [
        "#Artificial Neural Networks and Deep Learning  \n",
        "\n",
        "\n",
        "\n",
        "##Assignment 3.2 - Convolutional Neural Networks\n",
        "\n",
        "Prof. Dr. Ir. Johan A. K. Suykens     \n",
        "\n",
        "In this file, we will implement a convolutional neural network from scratch.\n",
        "\n",
        "We only consider classification tasks here in the session.\n",
        "\n",
        "\n"
      ]
    },
    {
      "cell_type": "code",
      "execution_count": null,
      "metadata": {
        "id": "k06FYdbfVReE"
      },
      "outputs": [],
      "source": [
        "# Please first load your google drive\n",
        "from google.colab import drive\n",
        "drive.mount('/content/drive')"
      ]
    },
    {
      "cell_type": "code",
      "execution_count": 1,
      "metadata": {
        "colab": {
          "base_uri": "https://localhost:8080/"
        },
        "id": "tBcSkiFpVmTq",
        "outputId": "f5d6e741-3ed9-4fff-8056-8adceb6a83cd"
      },
      "outputs": [
        {
          "output_type": "stream",
          "name": "stdout",
          "text": [
            "Sun Apr 27 15:41:55 2025       \n",
            "+-----------------------------------------------------------------------------------------+\n",
            "| NVIDIA-SMI 550.54.15              Driver Version: 550.54.15      CUDA Version: 12.4     |\n",
            "|-----------------------------------------+------------------------+----------------------+\n",
            "| GPU  Name                 Persistence-M | Bus-Id          Disp.A | Volatile Uncorr. ECC |\n",
            "| Fan  Temp   Perf          Pwr:Usage/Cap |           Memory-Usage | GPU-Util  Compute M. |\n",
            "|                                         |                        |               MIG M. |\n",
            "|=========================================+========================+======================|\n",
            "|   0  Tesla T4                       Off |   00000000:00:04.0 Off |                    0 |\n",
            "| N/A   56C    P8             10W /   70W |       0MiB /  15360MiB |      0%      Default |\n",
            "|                                         |                        |                  N/A |\n",
            "+-----------------------------------------+------------------------+----------------------+\n",
            "                                                                                         \n",
            "+-----------------------------------------------------------------------------------------+\n",
            "| Processes:                                                                              |\n",
            "|  GPU   GI   CI        PID   Type   Process name                              GPU Memory |\n",
            "|        ID   ID                                                               Usage      |\n",
            "|=========================================================================================|\n",
            "|  No running processes found                                                             |\n",
            "+-----------------------------------------------------------------------------------------+\n"
          ]
        }
      ],
      "source": [
        "# Please go to Edit > Notebook settings > Hardware accelerator > choose \"T4 GPU\"\n",
        "# Now check if you have loaded the GPU successfully\n",
        "!nvidia-smi"
      ]
    },
    {
      "cell_type": "markdown",
      "metadata": {
        "id": "C2KVP3ThVt4T"
      },
      "source": [
        "# Convolutional Neural Networks\n",
        "In this section, we implement CNN from scrath and train it on the MNIST dataset.\n",
        "\n",
        "We first load the dataset as follows:"
      ]
    },
    {
      "cell_type": "code",
      "execution_count": 2,
      "metadata": {
        "id": "-X7wZ07qVny5"
      },
      "outputs": [],
      "source": [
        "import torch\n",
        "from torch import nn, optim, functional, utils\n",
        "from torch.utils.data.dataloader import DataLoader\n",
        "import torchvision\n",
        "from torchvision import datasets, utils\n",
        "from torchvision.datasets import MNIST\n",
        "\n",
        "import time, os\n",
        "\n",
        "import matplotlib.pyplot as plt\n",
        "# use seaborn\n",
        "import seaborn as sns\n",
        "\n",
        "# Apply the default theme\n",
        "sns.set_theme()\n",
        "plt.rcParams[\"figure.dpi\"] = 100\n",
        "plt.rcParams['savefig.dpi'] = 300\n",
        "\n",
        "\n",
        "def get_mnist_loader(batch_size=100, num_train_samples = 10000, num_test_samples = 2000):\n",
        "    \"\"\"\n",
        "\n",
        "    :return: train_loader, test_loader\n",
        "    \"\"\"\n",
        "    train_dataset = MNIST(root='../data',\n",
        "                          train=True,\n",
        "                          transform=torchvision.transforms.ToTensor(),\n",
        "                          download=True)\n",
        "    test_dataset = MNIST(root='../data',\n",
        "                         train=False,\n",
        "                         transform=torchvision.transforms.ToTensor(),\n",
        "                         download=True)\n",
        "\n",
        "    # Randomly select a subset of samples\n",
        "    train_indices = torch.randperm(len(train_dataset))[:num_train_samples]\n",
        "    test_indices = torch.randperm(len(test_dataset))[:num_test_samples]\n",
        "\n",
        "    # Create subset samplers to be used in the dataloader\n",
        "    train_subset_sampler = torch.utils.data.SubsetRandomSampler(train_indices)\n",
        "    test_subset_sampler = torch.utils.data.SubsetRandomSampler(test_indices)\n",
        "\n",
        "    train_loader = torch.utils.data.DataLoader(dataset=train_dataset,\n",
        "                                               batch_size=batch_size,\n",
        "                                               sampler = train_subset_sampler)\n",
        "    test_loader = torch.utils.data.DataLoader(dataset=test_dataset,\n",
        "                                              batch_size=batch_size,\n",
        "                                              sampler = test_subset_sampler)\n",
        "\n",
        "\n",
        "    return train_loader, test_loader"
      ]
    },
    {
      "cell_type": "markdown",
      "metadata": {
        "id": "l8DOJpeycH1L"
      },
      "source": [
        "## Build CNN from scratch\n",
        "Our CNN is of 4 convolutional layers and 2 fully connected layers.\n",
        "You can try a different amount of layers by simply add more ``self.conv`` layers inside  ``__init__`` and ``forward`` in the following code. Please be careful with the dimensions of the convolutional layers when changing parameters such as convolution channels, kernel_size and stride."
      ]
    },
    {
      "cell_type": "code",
      "execution_count": 3,
      "metadata": {
        "id": "vwTxoe2VV7jX"
      },
      "outputs": [],
      "source": [
        "class CNNnet(torch.nn.Module):\n",
        "    def __init__(self):\n",
        "        super(CNNnet,self).__init__()\n",
        "        self.conv1 = torch.nn.Sequential(\n",
        "            # 2-D convolution\n",
        "            torch.nn.Conv2d(in_channels=1, # input channels\n",
        "                            out_channels=16, # convolution channels\n",
        "                            kernel_size=3, # kernel size of the convolution\n",
        "                            stride=2, # stride of the kernel\n",
        "                            padding=1), # padding with 0\n",
        "            # Data is normalized before entering ReLU，num_features=batch_size*num_features*height*width\n",
        "            # Output is with size (N,C,W,H), i.e., (batch_size, channels, width, height)\n",
        "            torch.nn.BatchNorm2d(16), # the input dimensionality of BatchNorm2d should match the number of convolution channels\n",
        "            # Set activation function\n",
        "            torch.nn.ReLU()\n",
        "        )\n",
        "        self.conv2 = torch.nn.Sequential(\n",
        "            torch.nn.Conv2d(16,32,3,2,1), # be sure to have the number of input channels match the output channels of the previous layer\n",
        "            torch.nn.BatchNorm2d(32),\n",
        "            torch.nn.ReLU()\n",
        "        )\n",
        "        self.conv3 = torch.nn.Sequential(\n",
        "            torch.nn.Conv2d(32,32,3,2,1),\n",
        "            torch.nn.BatchNorm2d(32),\n",
        "            torch.nn.ReLU()\n",
        "        )\n",
        "        self.conv4 = torch.nn.Sequential(\n",
        "            torch.nn.Conv2d(32,64,2,2,0),\n",
        "            torch.nn.BatchNorm2d(64),\n",
        "            torch.nn.ReLU()\n",
        "        )\n",
        "        # set fully connected layer\n",
        "        self.mlp1 = torch.nn.Linear(2*2*64,100) # input dimension should match the output dimension from the previous layer\n",
        "        # final output is of dimension 10 since\n",
        "        # MNIST is a 10-class classification dataset\n",
        "        self.mlp2 = torch.nn.Linear(100,10)\n",
        "\n",
        "    # feedforward\n",
        "    def forward(self,x):\n",
        "        x = self.conv1(x)\n",
        "        x = self.conv2(x)\n",
        "        x = self.conv3(x)\n",
        "        x = self.conv4(x)\n",
        "        # flatten tensor to 1-D\n",
        "        x = self.mlp1(x.view(x.size(0),-1))\n",
        "        x = self.mlp2(x)\n",
        "        return x"
      ]
    },
    {
      "cell_type": "code",
      "source": [
        "class LeNet(torch.nn.Module):\n",
        "    def __init__(self):\n",
        "        super(LeNet,self).__init__()\n",
        "        self.conv1 = torch.nn.Sequential(\n",
        "            # 2-D convolution\n",
        "            torch.nn.Conv2d(in_channels=1, # input channels\n",
        "                            out_channels=6, # convolution channels\n",
        "                            kernel_size=5, # kernel size of the convolution\n",
        "                            stride=1, # stride of the kernel\n",
        "                            padding=0), # padding with 0\n",
        "            # Data is normalized before entering ReLU，num_features=batch_size*num_features*height*width\n",
        "            # Output is with size (N,C,W,H), i.e., (batch_size, channels, width, height)\n",
        "            torch.nn.BatchNorm2d(6), # the input dimensionality of BatchNorm2d should match the number of convolution channels\n",
        "            # Set activation function\n",
        "            torch.nn.ReLU()\n",
        "        )\n",
        "        self.pool1 = torch.nn.MaxPool2d(kernel_size=2, stride=2)\n",
        "        self.conv2 = torch.nn.Sequential(\n",
        "            torch.nn.Conv2d(6,16,5,1,0), # be sure to have the number of input channels match the output channels of the previous layer\n",
        "            torch.nn.BatchNorm2d(16),\n",
        "            torch.nn.ReLU()\n",
        "        )\n",
        "        self.pool2 = torch.nn.MaxPool2d(kernel_size=2, stride=2)\n",
        "        # set fully connected layer\n",
        "        self.mlp1 = torch.nn.Linear(4*4*16,100) # input dimension should match the output dimension from the previous layer\n",
        "        # final output is of dimension 10 since\n",
        "        # MNIST is a 10-class classification dataset\n",
        "        self.mlp2 = torch.nn.Linear(100,10)\n",
        "\n",
        "    # feedforward\n",
        "    def forward(self,x):\n",
        "        x = self.conv1(x)\n",
        "        x = self.pool1(x)\n",
        "        x = self.conv2(x)\n",
        "        x = self.pool2(x)\n",
        "        # flatten tensor to 1-D\n",
        "        x = self.mlp1(x.view(x.size(0),-1))\n",
        "        x = self.mlp2(x)\n",
        "        return x"
      ],
      "metadata": {
        "id": "VbN7IF3L7JDv"
      },
      "execution_count": 13,
      "outputs": []
    },
    {
      "cell_type": "code",
      "source": [
        "class AdaNet(torch.nn.Module):\n",
        "    def __init__(self, n_layers, pool, kernel_stride):\n",
        "        super(AdaNet,self).__init__()\n",
        "        self.layers = list()\n",
        "        for i in range(n_layers):\n",
        "            in_channels = 8 * 2**(i-1) if i > 0 else 1\n",
        "            self.layers.append(\n",
        "                torch.nn.Sequential(\n",
        "                    torch.nn.Conv2d(in_channels=in_channels,\n",
        "                                    out_channels=8 * 2**i,\n",
        "                                    kernel_size=kernel_stride[0],\n",
        "                                    stride=kernel_stride[1],\n",
        "                                    padding=1),\n",
        "                    torch.nn.BatchNorm2d(8 * 2**i),\n",
        "                    torch.nn.ReLU()\n",
        "                )\n",
        "            )\n",
        "            if pool:\n",
        "                self.layers.append(torch.nn.MaxPool2d(kernel_size=2, stride=2))\n",
        "        size = self.compute_size()\n",
        "        self.layers.append(torch.nn.Linear(size,100)) # input dimension should match the output dimension from the previous layer\n",
        "        # final output is of dimension 10 since\n",
        "        # MNIST is a 10-class classification dataset\n",
        "        self.layers.append(torch.nn.Linear(100,10))\n",
        "\n",
        "    # feedforward\n",
        "    def forward(self,x):\n",
        "        for layer in self.layers:\n",
        "            if type(layer) == torch.nn.Linear:\n",
        "                x = layer(x.view(x.size(0),-1))\n",
        "            x = layer(x)\n",
        "        return x\n",
        "\n",
        "    def compute_size(self):\n",
        "        size = 28\n",
        "        for i in range(self.n_layers):\n",
        "            if (size % 2) == 1:\n",
        "                size -= 1\n",
        "            size = (size - self.kernel_stride[0] + 2) / self.kernel_stride[1] + 1\n",
        "            if self.pool:\n",
        "                if (size % 2) == 1:\n",
        "                    size -= 1\n",
        "                size /= 2\n",
        "        size = size**2 * 8 * 2**(self.n_layers-1)\n",
        "        return size"
      ],
      "metadata": {
        "id": "2m1b0TNm9uMz",
        "outputId": "97a11757-e761-4281-c39d-7572784e34e1",
        "colab": {
          "base_uri": "https://localhost:8080/",
          "height": 211
        }
      },
      "execution_count": 7,
      "outputs": [
        {
          "output_type": "error",
          "ename": "NameError",
          "evalue": "name 'torch' is not defined",
          "traceback": [
            "\u001b[0;31m---------------------------------------------------------------------------\u001b[0m",
            "\u001b[0;31mNameError\u001b[0m                                 Traceback (most recent call last)",
            "\u001b[0;32m<ipython-input-7-3c42505df7ac>\u001b[0m in \u001b[0;36m<cell line: 0>\u001b[0;34m()\u001b[0m\n\u001b[0;32m----> 1\u001b[0;31m \u001b[0;32mclass\u001b[0m \u001b[0mAdaNet\u001b[0m\u001b[0;34m(\u001b[0m\u001b[0mtorch\u001b[0m\u001b[0;34m.\u001b[0m\u001b[0mnn\u001b[0m\u001b[0;34m.\u001b[0m\u001b[0mModule\u001b[0m\u001b[0;34m)\u001b[0m\u001b[0;34m:\u001b[0m\u001b[0;34m\u001b[0m\u001b[0;34m\u001b[0m\u001b[0m\n\u001b[0m\u001b[1;32m      2\u001b[0m     \u001b[0;32mdef\u001b[0m \u001b[0m__init__\u001b[0m\u001b[0;34m(\u001b[0m\u001b[0mself\u001b[0m\u001b[0;34m,\u001b[0m \u001b[0mn_layers\u001b[0m\u001b[0;34m,\u001b[0m \u001b[0mpool\u001b[0m\u001b[0;34m,\u001b[0m \u001b[0mkernel_stride\u001b[0m\u001b[0;34m)\u001b[0m\u001b[0;34m:\u001b[0m\u001b[0;34m\u001b[0m\u001b[0;34m\u001b[0m\u001b[0m\n\u001b[1;32m      3\u001b[0m         \u001b[0msuper\u001b[0m\u001b[0;34m(\u001b[0m\u001b[0mAdaNet\u001b[0m\u001b[0;34m,\u001b[0m\u001b[0mself\u001b[0m\u001b[0;34m)\u001b[0m\u001b[0;34m.\u001b[0m\u001b[0m__init__\u001b[0m\u001b[0;34m(\u001b[0m\u001b[0;34m)\u001b[0m\u001b[0;34m\u001b[0m\u001b[0;34m\u001b[0m\u001b[0m\n\u001b[1;32m      4\u001b[0m         \u001b[0mself\u001b[0m\u001b[0;34m.\u001b[0m\u001b[0mlayers\u001b[0m \u001b[0;34m=\u001b[0m \u001b[0mlist\u001b[0m\u001b[0;34m(\u001b[0m\u001b[0;34m)\u001b[0m\u001b[0;34m\u001b[0m\u001b[0;34m\u001b[0m\u001b[0m\n\u001b[1;32m      5\u001b[0m         \u001b[0;32mfor\u001b[0m \u001b[0mi\u001b[0m \u001b[0;32min\u001b[0m \u001b[0mn_layers\u001b[0m\u001b[0;34m:\u001b[0m\u001b[0;34m\u001b[0m\u001b[0;34m\u001b[0m\u001b[0m\n",
            "\u001b[0;31mNameError\u001b[0m: name 'torch' is not defined"
          ]
        }
      ]
    },
    {
      "cell_type": "markdown",
      "metadata": {
        "id": "bsGqOf9mk6yR"
      },
      "source": [
        "## Training function\n",
        "The training process includes loading the model, setting the optimizer, and running on the training set for epochs.\n",
        "After each training epoch, we evaluate the model on the test set to record the test accuracy."
      ]
    },
    {
      "cell_type": "code",
      "execution_count": 14,
      "metadata": {
        "id": "tHe1PyUucZGp"
      },
      "outputs": [],
      "source": [
        "def train(model, train_epoch, model_save, train_loader, test_loader) :\n",
        "    # Push model on to GPU if available\n",
        "    device = torch.device('cuda' if torch.cuda.is_available() else 'cpu')\n",
        "    model.to(device)\n",
        "\n",
        "    loss_func = nn.CrossEntropyLoss( )\n",
        "    # Use Adam optimizer\n",
        "    optimizer = torch.optim.Adam(model.parameters( ),lr=0.001)\n",
        "\n",
        "    acc_count = []  # record the test accuracy\n",
        "    for epoch in range(train_epoch):\n",
        "\n",
        "        model.train()\n",
        "\n",
        "        for i, (x, y) in enumerate(train_loader):\n",
        "            x = x.to(device)  # torch,Size([128,1,28,28])\n",
        "            y = y.to(device)   # torch.Size([128])\n",
        "            # Output of the model\n",
        "            out = model(x)  # torch.Size([128,10])\n",
        "            # Compute loss\n",
        "            loss = loss_func(out, y)\n",
        "\n",
        "            optimizer.zero_grad()\n",
        "            loss.backward()  # backpropagation\n",
        "            optimizer.step()  # update the network parameters\n",
        "\n",
        "            # save the model checkpoint every 20 iterations\n",
        "            if i % 20 == 0:\n",
        "                print('Training Loss:{:.6f} Batch {}/{} '.format(loss.item(), i, len(train_loader)))\n",
        "                torch.save(model, model_save)\n",
        "\n",
        "        # evaluate the model after each training epoch\n",
        "        with torch.no_grad():\n",
        "            model.eval()\n",
        "\n",
        "            true_pred = torch.zeros(1).to(device)\n",
        "            nb_sample = 0\n",
        "\n",
        "            for inputs, targets in test_loader:\n",
        "                inputs = inputs.to(device)\n",
        "                targets = targets.to(device)\n",
        "                outputs = model(inputs)\n",
        "\n",
        "                _, pred = torch.max(outputs, dim=1)\n",
        "\n",
        "                true_pred = true_pred + torch.sum(pred == targets).type(torch.FloatTensor)\n",
        "                nb_sample += len(inputs)\n",
        "\n",
        "            acc = true_pred / nb_sample\n",
        "            acc = acc.item()\n",
        "\n",
        "            acc_count.append(acc)\n",
        "\n",
        "            print('Epoch {:d}, Test Accuracy {:.3f} %'.format(epoch, acc * 100))\n",
        "\n",
        "    return acc_count"
      ]
    },
    {
      "cell_type": "markdown",
      "metadata": {
        "id": "fqXo_JIWla_l"
      },
      "source": [
        "## Let's start training!\n",
        "The network is trained for 20 epochs, batch size of 100.\n",
        "\n",
        "You can adjust the hyperparameters here if necessary."
      ]
    },
    {
      "cell_type": "code",
      "execution_count": 19,
      "metadata": {
        "id": "cMjq_kz8guO_"
      },
      "outputs": [],
      "source": [
        "# You can adjust the hyperparameters here if needed\n",
        "train_epoch = 20\n",
        "batch_size = 100\n",
        "shuffle = True\n",
        "\n",
        "# Define model\n",
        "model = LeNet()\n",
        "\n",
        "# where to save the model\n",
        "model_save = './MNIST_CNN/ckpt.pth'\n",
        "\n",
        "import os\n",
        "if not os.path.exists('MNIST_CNN'):\n",
        "    os.mkdir('MNIST_CNN')"
      ]
    },
    {
      "cell_type": "code",
      "execution_count": 20,
      "metadata": {
        "colab": {
          "base_uri": "https://localhost:8080/"
        },
        "id": "yhijmumReHXc",
        "outputId": "8e61206a-22ea-4973-895f-611ea47b6d3a"
      },
      "outputs": [
        {
          "output_type": "stream",
          "name": "stdout",
          "text": [
            "Training Loss:2.389745 Batch 0/100 \n",
            "Training Loss:0.836086 Batch 20/100 \n",
            "Training Loss:0.365969 Batch 40/100 \n",
            "Training Loss:0.344679 Batch 60/100 \n",
            "Training Loss:0.305407 Batch 80/100 \n",
            "Epoch 0, Test Accuracy 94.500 %\n",
            "Training Loss:0.082754 Batch 0/100 \n",
            "Training Loss:0.120090 Batch 20/100 \n",
            "Training Loss:0.172789 Batch 40/100 \n",
            "Training Loss:0.256260 Batch 60/100 \n",
            "Training Loss:0.160806 Batch 80/100 \n",
            "Epoch 1, Test Accuracy 96.350 %\n",
            "Training Loss:0.074210 Batch 0/100 \n",
            "Training Loss:0.213557 Batch 20/100 \n",
            "Training Loss:0.102911 Batch 40/100 \n",
            "Training Loss:0.136094 Batch 60/100 \n",
            "Training Loss:0.048195 Batch 80/100 \n",
            "Epoch 2, Test Accuracy 96.900 %\n",
            "Training Loss:0.117973 Batch 0/100 \n",
            "Training Loss:0.077362 Batch 20/100 \n",
            "Training Loss:0.136455 Batch 40/100 \n",
            "Training Loss:0.149738 Batch 60/100 \n",
            "Training Loss:0.130753 Batch 80/100 \n",
            "Epoch 3, Test Accuracy 97.550 %\n",
            "Training Loss:0.042622 Batch 0/100 \n",
            "Training Loss:0.055982 Batch 20/100 \n",
            "Training Loss:0.081638 Batch 40/100 \n",
            "Training Loss:0.015934 Batch 60/100 \n",
            "Training Loss:0.115440 Batch 80/100 \n",
            "Epoch 4, Test Accuracy 97.650 %\n",
            "Training Loss:0.036537 Batch 0/100 \n",
            "Training Loss:0.047479 Batch 20/100 \n",
            "Training Loss:0.098911 Batch 40/100 \n",
            "Training Loss:0.045024 Batch 60/100 \n",
            "Training Loss:0.032765 Batch 80/100 \n",
            "Epoch 5, Test Accuracy 97.950 %\n",
            "Training Loss:0.026869 Batch 0/100 \n",
            "Training Loss:0.047605 Batch 20/100 \n",
            "Training Loss:0.019189 Batch 40/100 \n",
            "Training Loss:0.052571 Batch 60/100 \n",
            "Training Loss:0.042122 Batch 80/100 \n",
            "Epoch 6, Test Accuracy 97.950 %\n",
            "Training Loss:0.042707 Batch 0/100 \n",
            "Training Loss:0.013834 Batch 20/100 \n",
            "Training Loss:0.027452 Batch 40/100 \n",
            "Training Loss:0.026773 Batch 60/100 \n",
            "Training Loss:0.013054 Batch 80/100 \n",
            "Epoch 7, Test Accuracy 98.100 %\n",
            "Training Loss:0.003806 Batch 0/100 \n",
            "Training Loss:0.013795 Batch 20/100 \n",
            "Training Loss:0.009467 Batch 40/100 \n",
            "Training Loss:0.062311 Batch 60/100 \n",
            "Training Loss:0.009042 Batch 80/100 \n",
            "Epoch 8, Test Accuracy 97.450 %\n",
            "Training Loss:0.010946 Batch 0/100 \n",
            "Training Loss:0.005412 Batch 20/100 \n",
            "Training Loss:0.024248 Batch 40/100 \n",
            "Training Loss:0.006959 Batch 60/100 \n",
            "Training Loss:0.027358 Batch 80/100 \n",
            "Epoch 9, Test Accuracy 97.750 %\n",
            "Training Loss:0.039432 Batch 0/100 \n",
            "Training Loss:0.020798 Batch 20/100 \n",
            "Training Loss:0.002846 Batch 40/100 \n",
            "Training Loss:0.011863 Batch 60/100 \n",
            "Training Loss:0.016009 Batch 80/100 \n",
            "Epoch 10, Test Accuracy 97.550 %\n",
            "Training Loss:0.009615 Batch 0/100 \n",
            "Training Loss:0.003116 Batch 20/100 \n",
            "Training Loss:0.014272 Batch 40/100 \n",
            "Training Loss:0.007579 Batch 60/100 \n",
            "Training Loss:0.010494 Batch 80/100 \n",
            "Epoch 11, Test Accuracy 98.150 %\n",
            "Training Loss:0.017960 Batch 0/100 \n",
            "Training Loss:0.002820 Batch 20/100 \n",
            "Training Loss:0.016403 Batch 40/100 \n",
            "Training Loss:0.005363 Batch 60/100 \n",
            "Training Loss:0.005507 Batch 80/100 \n",
            "Epoch 12, Test Accuracy 97.550 %\n",
            "Training Loss:0.016402 Batch 0/100 \n",
            "Training Loss:0.011101 Batch 20/100 \n",
            "Training Loss:0.011582 Batch 40/100 \n",
            "Training Loss:0.010394 Batch 60/100 \n",
            "Training Loss:0.011199 Batch 80/100 \n",
            "Epoch 13, Test Accuracy 98.100 %\n",
            "Training Loss:0.002896 Batch 0/100 \n",
            "Training Loss:0.006219 Batch 20/100 \n",
            "Training Loss:0.016463 Batch 40/100 \n",
            "Training Loss:0.002664 Batch 60/100 \n",
            "Training Loss:0.014397 Batch 80/100 \n",
            "Epoch 14, Test Accuracy 97.650 %\n",
            "Training Loss:0.014567 Batch 0/100 \n",
            "Training Loss:0.005983 Batch 20/100 \n",
            "Training Loss:0.023834 Batch 40/100 \n",
            "Training Loss:0.005030 Batch 60/100 \n",
            "Training Loss:0.008030 Batch 80/100 \n",
            "Epoch 15, Test Accuracy 98.250 %\n",
            "Training Loss:0.002538 Batch 0/100 \n",
            "Training Loss:0.003998 Batch 20/100 \n",
            "Training Loss:0.004793 Batch 40/100 \n",
            "Training Loss:0.004504 Batch 60/100 \n",
            "Training Loss:0.007329 Batch 80/100 \n",
            "Epoch 16, Test Accuracy 98.150 %\n",
            "Training Loss:0.004644 Batch 0/100 \n",
            "Training Loss:0.002140 Batch 20/100 \n",
            "Training Loss:0.004323 Batch 40/100 \n",
            "Training Loss:0.003127 Batch 60/100 \n",
            "Training Loss:0.017141 Batch 80/100 \n",
            "Epoch 17, Test Accuracy 97.800 %\n",
            "Training Loss:0.004560 Batch 0/100 \n",
            "Training Loss:0.002323 Batch 20/100 \n",
            "Training Loss:0.011779 Batch 40/100 \n",
            "Training Loss:0.007124 Batch 60/100 \n",
            "Training Loss:0.002747 Batch 80/100 \n",
            "Epoch 18, Test Accuracy 98.450 %\n",
            "Training Loss:0.002056 Batch 0/100 \n",
            "Training Loss:0.002437 Batch 20/100 \n",
            "Training Loss:0.003675 Batch 40/100 \n",
            "Training Loss:0.003738 Batch 60/100 \n",
            "Training Loss:0.001607 Batch 80/100 \n",
            "Epoch 19, Test Accuracy 98.350 %\n"
          ]
        }
      ],
      "source": [
        "# load datasets\n",
        "train_loader, test_loader = get_mnist_loader(batch_size=batch_size)\n",
        "\n",
        "# train the model\n",
        "acc_count = train(model, train_epoch=train_epoch, model_save=model_save, train_loader=train_loader, test_loader=test_loader)"
      ]
    },
    {
      "cell_type": "code",
      "execution_count": 21,
      "metadata": {
        "colab": {
          "base_uri": "https://localhost:8080/",
          "height": 480
        },
        "id": "V4gtbMW6jBRC",
        "outputId": "b6dfccb2-372a-4bb3-9383-7d0357bf4f0d"
      },
      "outputs": [
        {
          "output_type": "display_data",
          "data": {
            "text/plain": [
              "<Figure size 640x480 with 1 Axes>"
            ],
            "image/png": "[encoded data removed]"
          },
          "metadata": {}
        }
      ],
      "source": [
        "# Plot the accuracy curves w.r.t. epochs\n",
        "plt.plot(acc_count, marker='.')\n",
        "plt.ylabel('Accuracy')\n",
        "plt.xlabel('Epochs')\n",
        "plt.title('Test Accuracy of CNN')\n",
        "plt.savefig('lenet.png')\n",
        "plt.show()"
      ]
    },
    {
      "cell_type": "code",
      "source": [
        "# Informed grid search\n",
        "\n",
        "def compute_size(n_layers, pool, kernel_stride, size):\n",
        "    for i in range(n_layers):\n",
        "        if (size % 2) == 1:\n",
        "            size -= 1\n",
        "        size = (size - kernel_stride[0] + 2) / kernel_stride[1] + 1\n",
        "        print(size)\n",
        "        if pool:\n",
        "            if (size % 2) == 1:\n",
        "                size -= 1\n",
        "            size /= 2\n",
        "    size = size**2 * 8 * 2**(n_layers-1)\n",
        "    return size\n",
        "\n",
        "# where to save the model\n",
        "model_save = './MNIST_CNN/ckpt.pth'\n",
        "\n",
        "import os\n",
        "if not os.path.exists('MNIST_CNN'):\n",
        "    os.mkdir('MNIST_CNN')\n",
        "\n",
        "train_epoch = 20\n",
        "batch_size = 100\n",
        "shuffle = True\n",
        "\n",
        "n_layers=[1, 2, 3, 4]\n",
        "pool=[True, False]\n",
        "kernel_stride=[(3,1), (5,1), (2,2)]\n",
        "\n",
        "for i in n_layers:\n",
        "    for j in pool:\n",
        "        for k in kernel_stride:\n",
        "            if (256 > compute_size(i, j, k, 28)) or (compute_size(i, j, k, 28) > 1024):\n",
        "                print(f\"Error: Invalid combination of Number of layers {i}, Pooling {j} and Kernel & Stride {k}\")\n",
        "                continue\n",
        "\n",
        "            print(f\"Training: Number of layers {i}, Pooling {j} and Kernel & Stride {k}\")\n",
        "\n",
        "            # Define model\n",
        "            model = AdaNet(n_layers=i, pool=j, kernel_stride=k)\n",
        "\n",
        "            # load datasets\n",
        "            train_loader, test_loader = get_mnist_loader(batch_size=batch_size)\n",
        "\n",
        "            # train the model\n",
        "            acc_count = train(model, train_epoch=train_epoch, model_save=model_save, train_loader=train_loader, test_loader=test_loader)\n",
        "\n",
        "            plt.plot(acc_count, marker='.')\n",
        "            plt.ylabel('Accuracy')\n",
        "            plt.xlabel('Epochs')\n",
        "            plt.title('Test Accuracy of CNN')\n",
        "            plt.savefig(f'adanet_{i}_{j}_{k[0]}_{k[1]}.png')\n",
        "            plt.show()"
      ],
      "metadata": {
        "id": "Hwh3U3Nd6jI5"
      },
      "execution_count": null,
      "outputs": []
    }
  ],
  "metadata": {
    "accelerator": "GPU",
    "colab": {
      "gpuType": "T4",
      "provenance": []
    },
    "kernelspec": {
      "display_name": "Python 3",
      "name": "python3"
    },
    "language_info": {
      "name": "python"
    }
  },
  "nbformat": 4,
  "nbformat_minor": 0
}